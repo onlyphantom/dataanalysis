{
 "cells": [
  {
   "cell_type": "markdown",
   "id": "4a355024",
   "metadata": {},
   "source": [
    "**Coursebook: Intro to Machine Learning 1**\n",
    "- Part 1 of Introduction to Machine Learning in Python\n",
    "- Course Length: 9 Hours\n",
    "- Last Updated: October 2022\n",
    "\n",
    "___\n",
    "\n",
    "- Developed by [Algoritma](https://algorit.ma)'s product division and instructors team"
   ]
  },
  {
   "cell_type": "markdown",
   "id": "c79a632f",
   "metadata": {},
   "source": [
    "# Background\n",
    "\n",
    "The coursebook is part of the **Introduction to Machine Learning in Python** prepared by [Algoritma](https://algorit.ma). The coursebook is intended for a restricted audience only, i.e. the individuals and organizations having received this coursebook directly from the training organization. It may not be reproduced, distributed, translated or adapted in any form outside these individuals and organizations without permission.\n",
    "\n",
    "Algoritma is a data science education center based in Jakarta. We organize workshops and training programs to help working professionals and students gain mastery in various data science sub-fields: data visualization, machine learning, data modeling, statistical inference etc.\n",
    "\n",
    "## Lifelong Learning Benefits\n",
    "\n",
    "If you’re an active student or an alumni member, you also qualify for all our future workshops, 100% free of charge as part of your **lifelong learning benefits**. It is a new initiative to help you gain mastery and advance your knowledge in the field of data visualization, machine learning, computer vision, natural language processing (NLP) and other sub-fields of data science. All workshops conducted by us (from 1-day to 5-day series) are available to you free-of-charge, and the benefits **never expire**.\n",
    "\n",
    "## Top-Down Approach \n",
    "\n",
    "This course book takes a more accessible approach compared to Algoritma's core educational products, by getting participants to overcome the \"how\" barrier first, rather than a detailed breakdown of the \"why\". \n",
    "\n",
    "This translates to an overall easier learning curve, one where the reader is prompted to write short snippets of code in frequent intervals, before being offered an explanation on the underlying theoretical frameworks. Instead of mastering the syntactic design of the Python programming language, then moving into data structures, and then the `pandas` library, and then the mathematical details in an imputation algorithm, and its code implementation; we would do the opposite: Implement the imputation, then a succinct explanation of why it works and applicational considerations (what to look out for, what are assumptions it made, when _not_ to use it etc).\n",
    "\n",
    "\n",
    "## Training Objectives\n",
    "\n",
    "We'll start by getting used in undestading the basic of machine learning and regression model. In this coursebook we will cover:\n",
    "\n",
    "- **Introduction to Machine learning**\n",
    "    - Artificial intelligence vs Machine Learning\n",
    "    - Type of Machine Learning\n",
    "- **Linear Model**  \n",
    "    - Least Square Regression  \n",
    "    - Simple Linear Regression  \n",
    "    - Leverage and Influence  \n",
    "    - Linear Model Prediction   \n",
    "    - Multivariate Regression\n",
    "\n",
    "By the end of this course, you'll be working on a **Learn-by-Building** module to create a data exploratory analysis project to apply what you have learned on provided dataset and attempt to answer all the given questions. This final part is considered as a Graded Assignment so make sure you do well on the assignment."
   ]
  },
  {
   "cell_type": "markdown",
   "id": "31c796ae",
   "metadata": {},
   "source": [
    "# Introduction to Machine Learning\n",
    "\n",
    "Machine learning on a very basic level, refers to a sub-field of computer science that “gives computer the ability to learn without being explicitly programmed”. Less-sensationally, it is concerned with the theory and application of statistical and mathematical methods to arrive at a particular objective without following a set of strictly defined and rigid predetermined rules. This enables a computer system to continue learning and improving on its own, based on experience.\n",
    "\n",
    "People often misunderstand Artificial intelligence and Machine learning, Artificial intelligence and machine learning are very closely related and connected but they are not exactly the same thing. Because of this relationship, when you look into AI vs. machine learning, you’re really looking into their interconnection. While AI and machine learning are very closely connected, they’re not the same. Machine learning is considered a subset of AI. An “intelligent” computer uses AI to think like a human and perform tasks on its own, while Machine learning is how a computer system develops its intelligence.\n",
    "\n",
    "How usually a Machine Learning Model build : \n",
    "- Preparing and cleaning the data.\n",
    "- Machine learning models are created by studying patterns in the data.\n",
    "- Data scientists optimize the machine learning models based on patterns in the data.\n",
    "- The process repeats and is refined until the models’ accuracy is high enough for the tasks that need to be done."
   ]
  },
  {
   "cell_type": "markdown",
   "id": "234c69a7",
   "metadata": {},
   "source": [
    "## Type of Machine Learning\n",
    "\n",
    "Generally there are two basic approaches in machine learning which are supervised learning and unsupervised learning. The main difference is one uses labeled data to help predict outcomes, while the other does not. \n",
    "\n",
    "In detail supervised learning doing prediction based on past information which is called labeled data and on the basis of that data, machines predict the output. The labeled data means some input data is already tagged with the correct output. In supervised learning, the training data provided to the machines work as the supervisor that teaches the machines to predict the output correctly. It applies the same concept as a student learns in the supervision of the teacher. The aim of a supervised learning algorithm is to **find a mapping function to map the input variable(x) with the output variable(y).**\n",
    "\n",
    "Supervised learning can be separated into two types of problem: **classification** and **regression**:\n",
    "\n",
    "- **Regression** : Regression models are helpful for **predicting numerical values** based on different data points, such as sales revenue projections for a given business, or predicting house prices.\n",
    "\n",
    "- **Classification** : Classification model will **split your data into specific categories**, such as separating apples from oranges. Or, in the real world, supervised learning algorithms can be used to classify spam in a separate folder from your inbox. \n",
    "\n",
    "While unsupervised learning uses machine learning algorithms to analyze and cluster unlabeled data sets. These algorithms discover hidden patterns in data without the need for human intervention. Hence, they are “unsupervised”. We will not discuss much further about unsupervised learning at Data Analytics Specialization, but we will discuss it at machine learning specialization. \n",
    "\n",
    "While there is a lot of machine learning model, each model have their own speciality and characteristic, we might can't cover all machine learning algorithm but this map might helps you to get metal image on how to choose machine learning algorithm : \n",
    "\n",
    "![](assets/cheatsheet.png)\n",
    "\n",
    "At this module we will peek into how to predict numeric data using machine learning."
   ]
  },
  {
   "cell_type": "markdown",
   "id": "636efd05",
   "metadata": {},
   "source": [
    "## Regression Model\n",
    "\n",
    "The first topic that we will learn at this introduction to machine learning is regression model. When the prediction value is numerical (think oil prices, rainfall, quarterly sales, blood pressure etc), it is generally referred to as a “regression” problem. \n",
    "\n",
    "As explained before regression model categorized as supervised learning, so it need what we called **target variable**. Target variable is the value that we want to predict. At this regression model the target variable must be numerical. Before we started let's check our understanding about target variable.\n",
    "\n",
    "**Knowledge Check**\n",
    "\n",
    "When deciding which variable will be the target variable, usually we will refering it back to the business problem that we want solve. \n",
    "\n",
    "1. In this case a property agent needs a model that can predict the price of a house to be used as reference for market price. Which of this variable will be used as target variable?\n",
    "\n",
    "- [ ] House Price\n",
    "- [ ] Surface Area\n",
    "- [ ] Location\n",
    "- [ ] Building Age\n",
    "\n",
    "2. At next case, a restaurant owner want to predict how much beef he need to stock for next week sales. Which variable will be used as target variable?\n",
    "\n",
    "- [ ] Beef Order\n",
    "- [ ] Beef Price\n",
    "- [ ] Discount\n",
    "- [ ] Profit\n",
    "\n",
    "Before going into our main topic for this coursebook, let's import the packages we are going to use:"
   ]
  },
  {
   "cell_type": "code",
   "execution_count": 1,
   "id": "a0e056ec",
   "metadata": {},
   "outputs": [],
   "source": [
    "import pandas as pd\n",
    "import numpy as np\n",
    "import matplotlib.pyplot as plt\n",
    "\n",
    "%matplotlib inline"
   ]
  },
  {
   "cell_type": "markdown",
   "id": "9dfaa25e",
   "metadata": {},
   "source": [
    "At today's example, we will have data that consist information of car sales from used car agent. We want to predict selling price based on current buying price."
   ]
  },
  {
   "cell_type": "code",
   "execution_count": 2,
   "id": "90c851a1",
   "metadata": {
    "scrolled": true
   },
   "outputs": [
    {
     "data": {
      "text/html": [
       "<div>\n",
       "<style scoped>\n",
       "    .dataframe tbody tr th:only-of-type {\n",
       "        vertical-align: middle;\n",
       "    }\n",
       "\n",
       "    .dataframe tbody tr th {\n",
       "        vertical-align: top;\n",
       "    }\n",
       "\n",
       "    .dataframe thead th {\n",
       "        text-align: right;\n",
       "    }\n",
       "</style>\n",
       "<table border=\"1\" class=\"dataframe\">\n",
       "  <thead>\n",
       "    <tr style=\"text-align: right;\">\n",
       "      <th></th>\n",
       "      <th>Car_Name</th>\n",
       "      <th>Year</th>\n",
       "      <th>Selling_Price</th>\n",
       "      <th>Present_Price</th>\n",
       "      <th>Kms_Driven</th>\n",
       "      <th>Fuel_Type</th>\n",
       "      <th>Seller_Type</th>\n",
       "      <th>Transmission</th>\n",
       "      <th>Owner</th>\n",
       "    </tr>\n",
       "  </thead>\n",
       "  <tbody>\n",
       "    <tr>\n",
       "      <th>0</th>\n",
       "      <td>ritz</td>\n",
       "      <td>2014</td>\n",
       "      <td>3.35</td>\n",
       "      <td>5.59</td>\n",
       "      <td>27000</td>\n",
       "      <td>Petrol</td>\n",
       "      <td>Dealer</td>\n",
       "      <td>Manual</td>\n",
       "      <td>0</td>\n",
       "    </tr>\n",
       "    <tr>\n",
       "      <th>1</th>\n",
       "      <td>sx4</td>\n",
       "      <td>2013</td>\n",
       "      <td>4.75</td>\n",
       "      <td>9.54</td>\n",
       "      <td>43000</td>\n",
       "      <td>Diesel</td>\n",
       "      <td>Dealer</td>\n",
       "      <td>Manual</td>\n",
       "      <td>0</td>\n",
       "    </tr>\n",
       "    <tr>\n",
       "      <th>2</th>\n",
       "      <td>ciaz</td>\n",
       "      <td>2017</td>\n",
       "      <td>7.25</td>\n",
       "      <td>9.85</td>\n",
       "      <td>6900</td>\n",
       "      <td>Petrol</td>\n",
       "      <td>Dealer</td>\n",
       "      <td>Manual</td>\n",
       "      <td>0</td>\n",
       "    </tr>\n",
       "    <tr>\n",
       "      <th>3</th>\n",
       "      <td>wagon r</td>\n",
       "      <td>2011</td>\n",
       "      <td>2.85</td>\n",
       "      <td>4.15</td>\n",
       "      <td>5200</td>\n",
       "      <td>Petrol</td>\n",
       "      <td>Dealer</td>\n",
       "      <td>Manual</td>\n",
       "      <td>0</td>\n",
       "    </tr>\n",
       "    <tr>\n",
       "      <th>4</th>\n",
       "      <td>swift</td>\n",
       "      <td>2014</td>\n",
       "      <td>4.60</td>\n",
       "      <td>6.87</td>\n",
       "      <td>42450</td>\n",
       "      <td>Diesel</td>\n",
       "      <td>Dealer</td>\n",
       "      <td>Manual</td>\n",
       "      <td>0</td>\n",
       "    </tr>\n",
       "  </tbody>\n",
       "</table>\n",
       "</div>"
      ],
      "text/plain": [
       "  Car_Name  Year  Selling_Price  Present_Price  Kms_Driven Fuel_Type  \\\n",
       "0     ritz  2014           3.35           5.59       27000    Petrol   \n",
       "1      sx4  2013           4.75           9.54       43000    Diesel   \n",
       "2     ciaz  2017           7.25           9.85        6900    Petrol   \n",
       "3  wagon r  2011           2.85           4.15        5200    Petrol   \n",
       "4    swift  2014           4.60           6.87       42450    Diesel   \n",
       "\n",
       "  Seller_Type Transmission  Owner  \n",
       "0      Dealer       Manual      0  \n",
       "1      Dealer       Manual      0  \n",
       "2      Dealer       Manual      0  \n",
       "3      Dealer       Manual      0  \n",
       "4      Dealer       Manual      0  "
      ]
     },
     "execution_count": 2,
     "metadata": {},
     "output_type": "execute_result"
    }
   ],
   "source": [
    "carprice = pd.read_csv(\"data_input/car_data.csv\")\n",
    "carprice.head()"
   ]
  },
  {
   "cell_type": "markdown",
   "id": "3d13290c",
   "metadata": {},
   "source": [
    "Our data is quite simple, it only consist of : \n",
    "\n",
    "- `Car_Name`: Name/model of the car\n",
    "- `Year`: Production year\n",
    "- `Selling_Price`: Selling price in hundred thousand USD\n",
    "- `Present_Price`: Current buying price in hundred thousand USD\n",
    "- `Kms_Driven`: Total kilometer driven by the car\n",
    "- `Fuel_Type`: Fuel type\n",
    "- `Seller_Type`: Seller type\n",
    "- `Transmission`: Transmission type\n",
    "- `Owner`: Owner status (1 = yes, 0 = no)"
   ]
  },
  {
   "cell_type": "markdown",
   "id": "6e45a579",
   "metadata": {},
   "source": [
    "### Simple Linear Regression\n",
    "\n",
    "Simple linear regression means we will only use one variable or one predictor to predict our target variable. So let’s try and achieve some intuition about this important concept through the following illustration. "
   ]
  },
  {
   "cell_type": "code",
   "execution_count": 3,
   "id": "46e6464c",
   "metadata": {},
   "outputs": [
    {
     "data": {
      "text/plain": [
       "<AxesSubplot:xlabel='Present_Price', ylabel='Selling_Price'>"
      ]
     },
     "execution_count": 3,
     "metadata": {},
     "output_type": "execute_result"
    },
    {
     "data": {
      "image/png": "[encoded data removed]",
      "text/plain": [
       "<Figure size 432x288 with 1 Axes>"
      ]
     },
     "metadata": {
      "needs_background": "light"
     },
     "output_type": "display_data"
    }
   ],
   "source": [
    "carprice.plot.scatter(x = \"Present_Price\", y = \"Selling_Price\")"
   ]
  },
  {
   "cell_type": "markdown",
   "id": "aaeb63b1",
   "metadata": {},
   "source": [
    "What do you think the relationship between `Selling Price` and `Present Price` based on that scatter plot? To make sure about our insight let's learn about correlation. What is correlation? "
   ]
  },
  {
   "cell_type": "markdown",
   "id": "2ced5835",
   "metadata": {},
   "source": [
    "### Measures of Spread\n",
    "\n",
    "We all must be familiar in how to find the average value of something. But the problem we want to answer at this section is how does we know how each data varies from eatch other?\n",
    "\n",
    "Measures of spread measures the extent to which **value in a distribution differ from each other.** In practice, it is far easier to compute the distance between the values to their mean and when we square each one of these distances and add them all up the average of that result is known as **variance**:\n",
    "\n",
    "$S^2 = \\frac{\\displaystyle\\sum_{i=1}^{n}(x_i - \\mu)^2} {n-1}$\n",
    "\n",
    "Taking the square root of the variance will result in the **standard deviation**. Just like the mean, standard deviation is the “expected value” of how far the scores deviate from the mean.\n",
    "\n",
    "For example we want to know how much is variance of our selling price :"
   ]
  },
  {
   "cell_type": "code",
   "execution_count": 4,
   "id": "8d60d402",
   "metadata": {},
   "outputs": [
    {
     "data": {
      "text/plain": [
       "25.83497331561462"
      ]
     },
     "execution_count": 4,
     "metadata": {},
     "output_type": "execute_result"
    }
   ],
   "source": [
    "((carprice['Selling_Price'] - carprice['Selling_Price'].mean())**2).sum() / (len(carprice['Selling_Price'])-1)"
   ]
  },
  {
   "cell_type": "markdown",
   "id": "b9c2ed62",
   "metadata": {},
   "source": [
    "Or we can use `.var()` function to do exact same equation"
   ]
  },
  {
   "cell_type": "code",
   "execution_count": 5,
   "id": "3c1c06b0",
   "metadata": {},
   "outputs": [
    {
     "data": {
      "text/plain": [
       "25.83497331561462"
      ]
     },
     "execution_count": 5,
     "metadata": {},
     "output_type": "execute_result"
    }
   ],
   "source": [
    "carprice['Selling_Price'].var()"
   ]
  },
  {
   "cell_type": "markdown",
   "id": "1eecde62",
   "metadata": {},
   "source": [
    "And taking the square root of variance yields the standard deviation:"
   ]
  },
  {
   "cell_type": "code",
   "execution_count": 6,
   "id": "0ffb5234",
   "metadata": {},
   "outputs": [
    {
     "data": {
      "text/plain": [
       "5.082811556177803"
      ]
     },
     "execution_count": 6,
     "metadata": {},
     "output_type": "execute_result"
    }
   ],
   "source": [
    "import math\n",
    "\n",
    "math.sqrt(carprice['Selling_Price'].var())"
   ]
  },
  {
   "cell_type": "markdown",
   "id": "86540bb3",
   "metadata": {},
   "source": [
    "we can check it with `.std()` function which do the exactly same equation"
   ]
  },
  {
   "cell_type": "code",
   "execution_count": 7,
   "id": "236cac5e",
   "metadata": {},
   "outputs": [
    {
     "data": {
      "text/plain": [
       "5.082811556177803"
      ]
     },
     "execution_count": 7,
     "metadata": {},
     "output_type": "execute_result"
    }
   ],
   "source": [
    "carprice['Selling_Price'].std()"
   ]
  },
  {
   "cell_type": "markdown",
   "id": "97213513",
   "metadata": {},
   "source": [
    "As stated before, think of standard deviation as the \"expected standard deviation from the mean\", means that if we were to calculate its mean, we expect positive and negative deviation around 5.08 hundred thousand USD from the average selling price.\n",
    "\n",
    "Variance and standard deviation are always positive when the values are not identical. When there’s no variability, the variance is 0. Because variance and standard deviation are sensitive to every value, they may not be the most “representative” measurement for skewed data.\n",
    "\n",
    "#### Covariance and Correlation\n",
    "\n",
    "When we have two samples, X and Y, of the same size, then the **covariance** is an estimate of how **variation in X is related to the variation in Y**. Covariance measures how two variables *covary* and is represented as:\n",
    "\n",
    "$Cov(X,Y) = \\frac{1}{n-1} \\sum_{i=1}^{n}(X_i - \\mu_X)(Y_i - \\mu_Y)$"
   ]
  },
  {
   "cell_type": "code",
   "execution_count": 8,
   "id": "196d457a",
   "metadata": {},
   "outputs": [
    {
     "data": {
      "text/html": [
       "<div>\n",
       "<style scoped>\n",
       "    .dataframe tbody tr th:only-of-type {\n",
       "        vertical-align: middle;\n",
       "    }\n",
       "\n",
       "    .dataframe tbody tr th {\n",
       "        vertical-align: top;\n",
       "    }\n",
       "\n",
       "    .dataframe thead th {\n",
       "        text-align: right;\n",
       "    }\n",
       "</style>\n",
       "<table border=\"1\" class=\"dataframe\">\n",
       "  <thead>\n",
       "    <tr style=\"text-align: right;\">\n",
       "      <th></th>\n",
       "      <th>Selling_Price</th>\n",
       "      <th>Present_Price</th>\n",
       "    </tr>\n",
       "  </thead>\n",
       "  <tbody>\n",
       "    <tr>\n",
       "      <th>Selling_Price</th>\n",
       "      <td>25.834973</td>\n",
       "      <td>38.619337</td>\n",
       "    </tr>\n",
       "    <tr>\n",
       "      <th>Present_Price</th>\n",
       "      <td>38.619337</td>\n",
       "      <td>74.720731</td>\n",
       "    </tr>\n",
       "  </tbody>\n",
       "</table>\n",
       "</div>"
      ],
      "text/plain": [
       "               Selling_Price  Present_Price\n",
       "Selling_Price      25.834973      38.619337\n",
       "Present_Price      38.619337      74.720731"
      ]
     },
     "execution_count": 8,
     "metadata": {},
     "output_type": "execute_result"
    }
   ],
   "source": [
    "carprice[['Selling_Price','Present_Price']].cov()"
   ]
  },
  {
   "cell_type": "markdown",
   "id": "47442119",
   "metadata": {},
   "source": [
    "Getting a negative covariance means that smaller X tends to be associated with larger Y (and vice versa). The covariance of any variable with itself is its variance2. Notice also that $Cov(X,Y) = Cov(Y,X)$.\n",
    "\n",
    "**Correlation**, unlike covariance, is not sensitive to the units in which our variables X and Y are measured and hence more useful for determining how strong the relationship is between variables:"
   ]
  },
  {
   "cell_type": "code",
   "execution_count": 9,
   "id": "dfb21926",
   "metadata": {},
   "outputs": [
    {
     "data": {
      "text/html": [
       "<div>\n",
       "<style scoped>\n",
       "    .dataframe tbody tr th:only-of-type {\n",
       "        vertical-align: middle;\n",
       "    }\n",
       "\n",
       "    .dataframe tbody tr th {\n",
       "        vertical-align: top;\n",
       "    }\n",
       "\n",
       "    .dataframe thead th {\n",
       "        text-align: right;\n",
       "    }\n",
       "</style>\n",
       "<table border=\"1\" class=\"dataframe\">\n",
       "  <thead>\n",
       "    <tr style=\"text-align: right;\">\n",
       "      <th></th>\n",
       "      <th>Selling_Price</th>\n",
       "      <th>Present_Price</th>\n",
       "    </tr>\n",
       "  </thead>\n",
       "  <tbody>\n",
       "    <tr>\n",
       "      <th>Selling_Price</th>\n",
       "      <td>1.000000</td>\n",
       "      <td>0.878983</td>\n",
       "    </tr>\n",
       "    <tr>\n",
       "      <th>Present_Price</th>\n",
       "      <td>0.878983</td>\n",
       "      <td>1.000000</td>\n",
       "    </tr>\n",
       "  </tbody>\n",
       "</table>\n",
       "</div>"
      ],
      "text/plain": [
       "               Selling_Price  Present_Price\n",
       "Selling_Price       1.000000       0.878983\n",
       "Present_Price       0.878983       1.000000"
      ]
     },
     "execution_count": 9,
     "metadata": {},
     "output_type": "execute_result"
    }
   ],
   "source": [
    "carprice[['Selling_Price','Present_Price']].corr()"
   ]
  },
  {
   "cell_type": "markdown",
   "id": "3c677057",
   "metadata": {},
   "source": [
    "Some facts about correlation:  \n",
    "- $Cor(X,Y) == Cor(Y,X) $ \n",
    "- $-1 <= Cor(X,Y) <= 1 $ \n",
    "- $Cor(X,Y)$ is 1 or -1 only when the X and Y observations fall perfectly on a positive or negatively sloped line  \n",
    "- $Cor(X,Y) = 0$ implies no linear relationship  \n",
    "\n",
    "Based on that data, let's back to answer our initial question. What do you think the relationship between `selling price` and `current price`?"
   ]
  },
  {
   "cell_type": "code",
   "execution_count": 10,
   "id": "94aea981",
   "metadata": {},
   "outputs": [
    {
     "data": {
      "text/plain": [
       "<AxesSubplot:xlabel='Present_Price', ylabel='Selling_Price'>"
      ]
     },
     "execution_count": 10,
     "metadata": {},
     "output_type": "execute_result"
    },
    {
     "data": {
      "image/png": "[encoded data removed]",
      "text/plain": [
       "<Figure size 432x288 with 1 Axes>"
      ]
     },
     "metadata": {
      "needs_background": "light"
     },
     "output_type": "display_data"
    }
   ],
   "source": [
    "carprice.plot.scatter(x = \"Present_Price\", y = \"Selling_Price\")"
   ]
  },
  {
   "cell_type": "markdown",
   "id": "4f1d8fd5",
   "metadata": {},
   "source": [
    "We can see a fairly linear relationship between the Sales price and current price variables of our `carprice` dataset, and the objective of a simple linear regression is concerned with modeling that relationship with a straight line.\n",
    "\n",
    "Create a linear model in Python is as convenient as you’d wish it to be. We will call the `LinearRegression()` function and specify two parameters: the `x_data` for our linear model and `y_data` from which our model is built from.\n",
    "\n",
    "`sklearn` expect our x to be a 2-dimensional array and would throw an Exception otherwise, so we'll reshape the data to have two dimension, the second being `1` for the single column feature:\n"
   ]
  },
  {
   "cell_type": "code",
   "execution_count": 11,
   "id": "04013a15",
   "metadata": {},
   "outputs": [
    {
     "name": "stdout",
     "output_type": "stream",
     "text": [
      "(301, 1)\n"
     ]
    }
   ],
   "source": [
    "x_data = np.array(carprice['Present_Price']).reshape(-1,1)\n",
    "y_data = carprice['Selling_Price']\n",
    "print(x_data.shape)"
   ]
  },
  {
   "cell_type": "markdown",
   "id": "9ef4e951",
   "metadata": {},
   "source": [
    "We'll create our linear regressor object (\"model\") and fit the model to our training data."
   ]
  },
  {
   "cell_type": "code",
   "execution_count": 12,
   "id": "941fdcf2",
   "metadata": {},
   "outputs": [
    {
     "data": {
      "text/plain": [
       "LinearRegression()"
      ]
     },
     "execution_count": 12,
     "metadata": {},
     "output_type": "execute_result"
    }
   ],
   "source": [
    "from sklearn import linear_model\n",
    "\n",
    "lm = linear_model.LinearRegression()\n",
    "lm.fit(x_data, y_data)"
   ]
  },
  {
   "cell_type": "markdown",
   "id": "332ea4c7",
   "metadata": {},
   "source": [
    "Notice that we’ve saved `lm` as a linear model and we can now use the attributes of `lm`, such as its  coefficients to create our linear model by its `intercept` and `coef_`"
   ]
  },
  {
   "cell_type": "code",
   "execution_count": 13,
   "id": "6a874d6f",
   "metadata": {},
   "outputs": [
    {
     "name": "stdout",
     "output_type": "stream",
     "text": [
      "0.7185274709817686\n",
      "[0.51684903]\n"
     ]
    }
   ],
   "source": [
    "print(lm.intercept_)\n",
    "print(lm.coef_)"
   ]
  },
  {
   "cell_type": "markdown",
   "id": "7074dd57",
   "metadata": {},
   "source": [
    "Now that we have the coefficients, what does that tell us? Well the size of the coefficients tell us the effect that variable has on our target variable. We observed here that current price have a coefficient of 0.52 on selling price, and because 0.52 is a positive number we know that the effect is positive: the higher the current price, the higher the Selling price. A negative coefficient will indicate the opposite, and an example of that would be Profit vs Market Saturation: the increasingly saturated market leads to decreasing profit.\n",
    "\n",
    "Can you think of another example where we might observe a negative coefficient in a regression model?\n",
    "\n",
    "In addition to the above information, we’ve also derived the profit equation from our linear model directly. It takes the form:\n",
    "\n",
    "$\\hat Y=β_0+β_1X_1$\n",
    "\n",
    "Which in plain English means: Estimated selling price = Intercept + Slope * present price\n",
    "\n",
    "Substituting the beta coefficients into the formula hence yield: Estimated selling price = 0.7185 + 0.52 *  present price\n",
    "\n",
    "That tells us that the selling price is expected to increase by $0.52$ when the current price increase by $1$ (or we can say half of current price), and decrease by $0.52$ as the current price decrease by $1$. For a car price with Current price of $0$, the Selling price is predicted to be still positive with incurring a Selling price of approximately $0.7185$).\n",
    "\n",
    "Supposed we’re expecting car with current price $100$. What would our linear model predict its profit to be?"
   ]
  },
  {
   "cell_type": "code",
   "execution_count": 14,
   "id": "b0972947",
   "metadata": {},
   "outputs": [
    {
     "data": {
      "text/plain": [
       "52.7185"
      ]
     },
     "execution_count": 14,
     "metadata": {},
     "output_type": "execute_result"
    }
   ],
   "source": [
    "0.7185 + 0.52 * 100"
   ]
  },
  {
   "cell_type": "markdown",
   "id": "e5641765",
   "metadata": {},
   "source": [
    "It turns out that our linear model, `lm` would predict a selling price of $52.7185$. Not too bad! However, Python has built-in functions such as `*.predict()` that allow us to obtain predictions given some input data. predict expects a machine learning model as its first parameter, and in this case a data frame to predict on:"
   ]
  },
  {
   "cell_type": "code",
   "execution_count": 15,
   "id": "16c091a5",
   "metadata": {
    "scrolled": true
   },
   "outputs": [
    {
     "data": {
      "text/plain": [
       "array([3.60771353, 5.64926719, 5.80949039, 2.86345093, 4.26928029])"
      ]
     },
     "execution_count": 15,
     "metadata": {},
     "output_type": "execute_result"
    }
   ],
   "source": [
    "pred = lm.predict(x_data)\n",
    "pred[:5]"
   ]
  },
  {
   "cell_type": "markdown",
   "id": "6e0634e3",
   "metadata": {},
   "source": [
    "In very simple term as we dicussed before, what we created isa simple linear regression is concerned with modeling that relationship with a straight line. Which can be illustrated with this visualisation : "
   ]
  },
  {
   "cell_type": "code",
   "execution_count": 16,
   "id": "403c64d1",
   "metadata": {},
   "outputs": [
    {
     "data": {
      "text/plain": [
       "[<matplotlib.lines.Line2D at 0x205f2be2940>]"
      ]
     },
     "execution_count": 16,
     "metadata": {},
     "output_type": "execute_result"
    },
    {
     "data": {
      "image/png": "[encoded data removed]",
      "text/plain": [
       "<Figure size 432x288 with 1 Axes>"
      ]
     },
     "metadata": {
      "needs_background": "light"
     },
     "output_type": "display_data"
    }
   ],
   "source": [
    "carprice.plot.scatter(x = \"Present_Price\", y = \"Selling_Price\")\n",
    "plt.plot(carprice['Present_Price'], pred, c='red')"
   ]
  },
  {
   "cell_type": "markdown",
   "id": "db1426cb",
   "metadata": {},
   "source": [
    "That line, it turns out, is the line of best fit for our observations. This fitted line is estimated with error because the points are not perfectly predicted by the line (even though they hover around the line), and our linear model lm have estimated this line to minimize the **least squares error**."
   ]
  },
  {
   "cell_type": "markdown",
   "id": "80992e03",
   "metadata": {},
   "source": [
    "#### R-Squared\n",
    "\n",
    "R squared by definition is the percentage of the total variability that is explained by the linear relationship with the predictor (Regression Variation / Total Variation):\n",
    "\n",
    "$R^2=1- \\frac {∑ \\limits_{i=1}^n (Y_i−\\hat Y)^2}{∑ \\limits_{i=1}^n(Y_i−\\bar Y)^2}$\n",
    "\n",
    "In other words, R squared can be thought of as a quantity that represents the % of the total variation that’s represented by the model. We simply take the regression variation and divide it by the total variation. In our case, it is the % of the variation in profit that is explained by the regression relationship with sales. Some facts about $R^2$:\n",
    "- $R^2$ is the percentage of variation explained by the regression model\n",
    "- 0 ≤ $R^2$ ≤ 1\n",
    "- If we define R as the sample correlation between the predictor and the outcome, $R^2$ is simply the sample correlation squared\n",
    "\n",
    "Because R-squared is a statistical measure of how close the data are to the fitted line, we want our model to achieve a high R-squared as it means our model has fit the data well (not always the case, but we’ll get to that later).\n"
   ]
  },
  {
   "cell_type": "code",
   "execution_count": 17,
   "id": "06bd93a6",
   "metadata": {
    "scrolled": true
   },
   "outputs": [
    {
     "data": {
      "text/plain": [
       "0.7726103146985799"
      ]
     },
     "execution_count": 17,
     "metadata": {},
     "output_type": "execute_result"
    }
   ],
   "source": [
    "lm.score(x_data, y_data)"
   ]
  },
  {
   "cell_type": "markdown",
   "id": "88678403",
   "metadata": {},
   "source": [
    "Are we satisfied enough with our r-square result? As we think which area we can improve, remember we want to minimize the **least squares error**. From the line we create using regression model, there is some intersting data we can see at our `present price`. "
   ]
  },
  {
   "cell_type": "markdown",
   "id": "5634dfc0",
   "metadata": {},
   "source": [
    "###  Leverage vs Influence\n",
    "\n",
    "\n",
    "\n",
    "One of the terms you’ll hear a lot in this course is **least squares**. So let’s try and achieve some intuition about this important concept through the following illustration."
   ]
  },
  {
   "cell_type": "code",
   "execution_count": 18,
   "id": "095f495e",
   "metadata": {
    "scrolled": false
   },
   "outputs": [
    {
     "data": {
      "text/plain": [
       "array([[<AxesSubplot:title={'center':'Present_Price'}>]], dtype=object)"
      ]
     },
     "execution_count": 18,
     "metadata": {},
     "output_type": "execute_result"
    },
    {
     "data": {
      "image/png": "[encoded data removed]",
      "text/plain": [
       "<Figure size 432x288 with 1 Axes>"
      ]
     },
     "metadata": {
      "needs_background": "light"
     },
     "output_type": "display_data"
    }
   ],
   "source": [
    "carprice.hist(column=['Present_Price'])"
   ]
  },
  {
   "cell_type": "markdown",
   "id": "b4aca0ce",
   "metadata": {},
   "source": [
    "While the present price variable take on a rather large value (with an outlier at around 80), the idea of a least squares estimate is to identify a point in our data that minimizes the sum of the squared distances between the observed data and itself. We’ll observe later that, with no predictor variables, this least squares estimate is the sample average.\n",
    "\n",
    "Because our estimation model isn’t going to predict every observation perfectly, minimizing the average (which is equivalent to: the sum) of squared errors seem like a reasonable thing to do. If we had minimize the average absolute deviation between the data, it would lead us to the median as the least squares estimate instead of the mean. While this may seem intuitive to some, I am counting on some of you to be skeptical enough as to question me on whether the sample average would in fact lead us to the least squares estimate. \n",
    "\n",
    "Let’s explain the importance of least squares in the context of regression models. Before I create a scatterplot of the sales data, I’d remove the far outlier (the one close to 80) from our sample data and treat it as noise. Do note that removing outlying data (or in the general treatment of outliers) is not a decision to be taken lightly and generally involve a more methodical and lengthier treatment with respect to its implications. If done poorly, you may even be guilty of “doctoring” the data to fit your pre-determined narrative. \n",
    "\n",
    "Eliminating the outlier data from our original sample, we can now plot Sales against Profit and attain the following graph:"
   ]
  },
  {
   "cell_type": "code",
   "execution_count": 19,
   "id": "38b0a66f",
   "metadata": {},
   "outputs": [
    {
     "data": {
      "text/plain": [
       "<AxesSubplot:xlabel='Present_Price', ylabel='Selling_Price'>"
      ]
     },
     "execution_count": 19,
     "metadata": {},
     "output_type": "execute_result"
    },
    {
     "data": {
      "image/png": "[encoded data removed]",
      "text/plain": [
       "<Figure size 432x288 with 1 Axes>"
      ]
     },
     "metadata": {
      "needs_background": "light"
     },
     "output_type": "display_data"
    }
   ],
   "source": [
    "carprice[carprice['Present_Price']< 80].plot.scatter(x = \"Present_Price\", y = \"Selling_Price\")"
   ]
  },
  {
   "cell_type": "markdown",
   "id": "b4b92301",
   "metadata": {},
   "source": [
    "Let's try to remake our model with the outlier removed. Let's remove our outlier."
   ]
  },
  {
   "cell_type": "code",
   "execution_count": 20,
   "id": "754f84b6",
   "metadata": {},
   "outputs": [],
   "source": [
    "carprice_clean =carprice[carprice['Present_Price']< 80]\n",
    "\n",
    "x_data = np.array(carprice_clean['Present_Price']).reshape(-1,1)\n",
    "y_data = carprice_clean['Selling_Price']"
   ]
  },
  {
   "cell_type": "markdown",
   "id": "e03340ad",
   "metadata": {},
   "source": [
    "Retrain new model using `sklearn`"
   ]
  },
  {
   "cell_type": "code",
   "execution_count": 21,
   "id": "eab5d68e",
   "metadata": {},
   "outputs": [
    {
     "data": {
      "text/plain": [
       "<matplotlib.legend.Legend at 0x205f2d43370>"
      ]
     },
     "execution_count": 21,
     "metadata": {},
     "output_type": "execute_result"
    },
    {
     "data": {
      "image/png": "[encoded data removed]",
      "text/plain": [
       "<Figure size 432x288 with 1 Axes>"
      ]
     },
     "metadata": {
      "needs_background": "light"
     },
     "output_type": "display_data"
    }
   ],
   "source": [
    "lm_new = linear_model.LinearRegression()\n",
    "lm_new.fit(x_data, y_data)\n",
    "\n",
    "pred_clean = lm_new.predict(x_data)\n",
    "\n",
    "carprice.plot.scatter(x = \"Present_Price\", y = \"Selling_Price\")\n",
    "plt.plot(carprice_clean['Present_Price'], pred_clean, c='red')\n",
    "plt.plot(carprice['Present_Price'], pred, c='blue')\n",
    "plt.legend([\"Without Outlier\", \"With Outlier\"], loc=0, frameon=True)"
   ]
  },
  {
   "cell_type": "markdown",
   "id": "c8d2113d",
   "metadata": {},
   "source": [
    "Notice the presence of that outlier have influenced our regression line but not by a degree that makes it immediately apparent (at least visually). Let’s inspect the impact our outlier data point has had on our model by printing the coefficients  and rsquared of this model with our outlier-exempted model:"
   ]
  },
  {
   "cell_type": "code",
   "execution_count": 22,
   "id": "b5fd3663",
   "metadata": {},
   "outputs": [
    {
     "name": "stdout",
     "output_type": "stream",
     "text": [
      "0.20333414013941997\n",
      "[0.593151]\n"
     ]
    },
    {
     "data": {
      "text/plain": [
       "0.7818871249640229"
      ]
     },
     "execution_count": 22,
     "metadata": {},
     "output_type": "execute_result"
    }
   ],
   "source": [
    "print(lm_new.intercept_)\n",
    "print(lm_new.coef_)\n",
    "\n",
    "lm_new.score(x_data, y_data)"
   ]
  },
  {
   "cell_type": "markdown",
   "id": "6c6e6818",
   "metadata": {},
   "source": [
    "Our outlier there is said to have high leverage if its predictor value (x-axis) is far away from the mean of the predictor values for all observations. In other words, if a point is far away from where the rest of the data, we say that the point has high leverage. This point has the potential to greatly influence the coefficients of our regression model, but we have yet to establish whether it did.\n",
    "\n",
    "Interestingly, we hardly observe any changes in the coefficients as well as the R-squared between the outlier-exempted model and the model with outlier – at this case our R-squared value increased, from 0.77 to 0.78 when we exclude the outlier.\n",
    "\n",
    "However, another outlier point that share the same leverage (its x-value is equally distant from the mean of the other observations) have substantially decreased our R-squared, and we can observe from the coefficients and from the visual plot that the inclusion of this outlier has strong influence on our coefficients.\n",
    "\n",
    "As a data scientist, it is important we learn to recognize when our regression models are unduly influenced by rare but influential data points - the inclusion of one or more influential outliers could strongly bias our regression model (intercept changes from 0.7185 to 0.2033) and render our analysis null."
   ]
  },
  {
   "cell_type": "markdown",
   "id": "21d6907e",
   "metadata": {},
   "source": [
    "## Multiple Linear Regression\n",
    "\n",
    "Let’s build another regression model to solidify our understanding of regression models. Earlier on, we predict a future value of y given one input, x. Recall the y in our first example is the Selling Price and our x is the current price. \n",
    "\n",
    "Also recall that because the number of Selling Price depend on the number of current price, this y we’re working with is often referred to as dependent variable while the x are referred to as, you guessed it, independent variables. Can a regression model contain more than one dependent variable? Absolutely!\n",
    "\n",
    "Let's add `Year` variable into it."
   ]
  },
  {
   "cell_type": "code",
   "execution_count": 23,
   "id": "d612918f",
   "metadata": {},
   "outputs": [
    {
     "data": {
      "text/plain": [
       "LinearRegression()"
      ]
     },
     "execution_count": 23,
     "metadata": {},
     "output_type": "execute_result"
    }
   ],
   "source": [
    "x_data = np.array(carprice_clean[['Present_Price', 'Year']]).reshape(-1,2)\n",
    "y_data = carprice_clean['Selling_Price']\n",
    "\n",
    "lm_multi= linear_model.LinearRegression()\n",
    "lm_multi.fit(x_data, y_data)"
   ]
  },
  {
   "cell_type": "markdown",
   "id": "fab6a258",
   "metadata": {},
   "source": [
    "Let's check how our model performing using r-squared"
   ]
  },
  {
   "cell_type": "code",
   "execution_count": 24,
   "id": "7b3ae777",
   "metadata": {},
   "outputs": [
    {
     "data": {
      "text/plain": [
       "0.8636059985212884"
      ]
     },
     "execution_count": 24,
     "metadata": {},
     "output_type": "execute_result"
    }
   ],
   "source": [
    "lm_multi.score(x_data, y_data)"
   ]
  },
  {
   "cell_type": "markdown",
   "id": "33d4af13",
   "metadata": {},
   "source": [
    "### Adjusted R-Squared\n",
    "\n",
    "Using R-squared itself can be misleading in our assessment of the model fit and this is due to the one of the key limitation of this metric. R-squared, it turns out increases with every new addition of a predictor variable, even if it turns out that the variable is just completely random number - the R-squared does not decrease. As a result, a model with more independent variables may appear to have a better fit just on the merit of having more terms alone.\n",
    "\n",
    "A model that has too many predictors also tend to overfit and worse, the regression model would “model” the random noise in our data as if they were “features”, hence producing misleading R-squared values.\n",
    "\n",
    "The adjusted R-squared compares the explanatory power of regression models built with different number of predictors, allowing us to compare a crime rate regression model with 4 variables to another one with just 2 variables and find out if the one with 4 has achieved a higher R-squared simply because it has more predictors or if they truly lead to a better fit.\n",
    "\n",
    "Compare the following 3 models and pay attention to it’s Adjusted R-squared value. Model 1 :"
   ]
  },
  {
   "cell_type": "code",
   "execution_count": 25,
   "id": "907efe62",
   "metadata": {},
   "outputs": [
    {
     "data": {
      "text/plain": [
       "0.7818871249640229"
      ]
     },
     "execution_count": 25,
     "metadata": {},
     "output_type": "execute_result"
    }
   ],
   "source": [
    "x_data = np.array(carprice_clean['Present_Price']).reshape(-1,1)\n",
    "y_data = carprice_clean['Selling_Price']\n",
    "\n",
    "model_1 = linear_model.LinearRegression()\n",
    "model_1.fit(x_data, y_data)\n",
    "\n",
    "model_1.score(x_data,y_data)"
   ]
  },
  {
   "cell_type": "code",
   "execution_count": 26,
   "id": "23dab638",
   "metadata": {},
   "outputs": [
    {
     "data": {
      "text/html": [
       "<div>\n",
       "<style scoped>\n",
       "    .dataframe tbody tr th:only-of-type {\n",
       "        vertical-align: middle;\n",
       "    }\n",
       "\n",
       "    .dataframe tbody tr th {\n",
       "        vertical-align: top;\n",
       "    }\n",
       "\n",
       "    .dataframe thead th {\n",
       "        text-align: right;\n",
       "    }\n",
       "</style>\n",
       "<table border=\"1\" class=\"dataframe\">\n",
       "  <thead>\n",
       "    <tr style=\"text-align: right;\">\n",
       "      <th></th>\n",
       "      <th>Car_Name</th>\n",
       "      <th>Year</th>\n",
       "      <th>Selling_Price</th>\n",
       "      <th>Present_Price</th>\n",
       "      <th>Kms_Driven</th>\n",
       "      <th>Fuel_Type</th>\n",
       "      <th>Seller_Type</th>\n",
       "      <th>Transmission</th>\n",
       "      <th>Owner</th>\n",
       "    </tr>\n",
       "  </thead>\n",
       "  <tbody>\n",
       "    <tr>\n",
       "      <th>0</th>\n",
       "      <td>ritz</td>\n",
       "      <td>2014</td>\n",
       "      <td>3.35</td>\n",
       "      <td>5.59</td>\n",
       "      <td>27000</td>\n",
       "      <td>Petrol</td>\n",
       "      <td>Dealer</td>\n",
       "      <td>Manual</td>\n",
       "      <td>0</td>\n",
       "    </tr>\n",
       "    <tr>\n",
       "      <th>1</th>\n",
       "      <td>sx4</td>\n",
       "      <td>2013</td>\n",
       "      <td>4.75</td>\n",
       "      <td>9.54</td>\n",
       "      <td>43000</td>\n",
       "      <td>Diesel</td>\n",
       "      <td>Dealer</td>\n",
       "      <td>Manual</td>\n",
       "      <td>0</td>\n",
       "    </tr>\n",
       "    <tr>\n",
       "      <th>2</th>\n",
       "      <td>ciaz</td>\n",
       "      <td>2017</td>\n",
       "      <td>7.25</td>\n",
       "      <td>9.85</td>\n",
       "      <td>6900</td>\n",
       "      <td>Petrol</td>\n",
       "      <td>Dealer</td>\n",
       "      <td>Manual</td>\n",
       "      <td>0</td>\n",
       "    </tr>\n",
       "    <tr>\n",
       "      <th>3</th>\n",
       "      <td>wagon r</td>\n",
       "      <td>2011</td>\n",
       "      <td>2.85</td>\n",
       "      <td>4.15</td>\n",
       "      <td>5200</td>\n",
       "      <td>Petrol</td>\n",
       "      <td>Dealer</td>\n",
       "      <td>Manual</td>\n",
       "      <td>0</td>\n",
       "    </tr>\n",
       "    <tr>\n",
       "      <th>4</th>\n",
       "      <td>swift</td>\n",
       "      <td>2014</td>\n",
       "      <td>4.60</td>\n",
       "      <td>6.87</td>\n",
       "      <td>42450</td>\n",
       "      <td>Diesel</td>\n",
       "      <td>Dealer</td>\n",
       "      <td>Manual</td>\n",
       "      <td>0</td>\n",
       "    </tr>\n",
       "  </tbody>\n",
       "</table>\n",
       "</div>"
      ],
      "text/plain": [
       "  Car_Name  Year  Selling_Price  Present_Price  Kms_Driven Fuel_Type  \\\n",
       "0     ritz  2014           3.35           5.59       27000    Petrol   \n",
       "1      sx4  2013           4.75           9.54       43000    Diesel   \n",
       "2     ciaz  2017           7.25           9.85        6900    Petrol   \n",
       "3  wagon r  2011           2.85           4.15        5200    Petrol   \n",
       "4    swift  2014           4.60           6.87       42450    Diesel   \n",
       "\n",
       "  Seller_Type Transmission  Owner  \n",
       "0      Dealer       Manual      0  \n",
       "1      Dealer       Manual      0  \n",
       "2      Dealer       Manual      0  \n",
       "3      Dealer       Manual      0  \n",
       "4      Dealer       Manual      0  "
      ]
     },
     "execution_count": 26,
     "metadata": {},
     "output_type": "execute_result"
    }
   ],
   "source": [
    "carprice_clean.head()"
   ]
  },
  {
   "cell_type": "code",
   "execution_count": 27,
   "id": "65211824",
   "metadata": {},
   "outputs": [
    {
     "data": {
      "text/plain": [
       "0.8644739827497747"
      ]
     },
     "execution_count": 27,
     "metadata": {},
     "output_type": "execute_result"
    }
   ],
   "source": [
    "x_data = np.array(carprice_clean[['Present_Price', 'Year', 'Kms_Driven']]).reshape(-1,3)\n",
    "y_data = carprice_clean['Selling_Price']\n",
    "\n",
    "model_2 = linear_model.LinearRegression()\n",
    "model_2.fit(x_data, y_data)\n",
    "\n",
    "model_2.score(x_data,y_data)"
   ]
  },
  {
   "cell_type": "markdown",
   "id": "5289106c",
   "metadata": {},
   "source": [
    "`model1` has one predictor variable and has an R-squared of 0.7819. We see that by adding three additional predictors ('Present_Price', 'Year', 'Kms_Driven') the R-squared of our model increased to 0.8645(`model_2`). Now we say that R-squared indicates the quality of model fit, so does this necessarily means that `model_2` is a better model than `model1`? Not really. In fact, by adding three additional parameters, our Adjusted R-Squared has decreased and returned a model that has a lower Adjusted R-squared than the two other models (despite built with more predictor variables). \n",
    "\n",
    "So as a recap, our R-squared value tells us how well our model describes the data. It measures the extent to which the variance in our dependent variable (selling price) can be explained by the independent variables (years etc). However, as we increase the number of independent variables our model's R-squared value will also increase as it is incorporate any legitimate information as well as the noise introduced by these extra variables.\n",
    "\n",
    "Adjusted R-squared on the other hand does not increases the way R-squared does because it is adjusted for the number of predictor variables in our model. It increases only when the new variable actually leads to a better prediction. While the mathematical details of the adjusted R-squared formula is beyond the scope of this workshop, I'll give you a quick proof that it does \"penalizes\" the r-squared based on the number of predictors the model contains.\n",
    "\n",
    "The mathematical notation of adjusted R-squared:\n",
    "$R^2_{adj} = 1-(1-R^2)\\frac{n-1}{n-p-1}$"
   ]
  },
  {
   "cell_type": "code",
   "execution_count": 28,
   "id": "f09067bf",
   "metadata": {},
   "outputs": [
    {
     "data": {
      "text/plain": [
       "0.7438890331814443"
      ]
     },
     "execution_count": 28,
     "metadata": {},
     "output_type": "execute_result"
    }
   ],
   "source": [
    "model_2_r2 = model_2.score(x_data,y_data)\n",
    "\n",
    "n = x_data.shape[0]\n",
    "p = 4\n",
    "adj_r2 = 1 - (1 - (model_2_r2**2))*(n-1)/(n - p - 1)\n",
    "adj_r2"
   ]
  },
  {
   "cell_type": "markdown",
   "id": "6360ceb7",
   "metadata": {},
   "source": [
    "**Discussion** So from all three model, which is one is the best fit our predicting our selling price?"
   ]
  },
  {
   "cell_type": "markdown",
   "id": "4b89a9d4",
   "metadata": {},
   "source": [
    "### Evaluating a Regression Model\n",
    "\n",
    "In some cases, you might end up with more than one model for you to choose. It is often important for us to evaluate the performance of each model to find out which of the models result in the least total error. On the next chapters of machine learning specialization, we will dwell into an in-depth discussion on various evaluation metrics. A rather common measure is the Root Mean Squared Error. It measures the root mean square of observed data points to its predicted values. The mathematical notation of RMSE:\n",
    "\n",
    "$RMSE = \\sqrt{\\frac{\\sum_i^{n}(Predicted_i-Actual_i)^2}{n}}$\n",
    "\n",
    "`sklearn` does not have a function that we can use to count our rmse, so we need to bit creative. Before that let's predict using `model_2`"
   ]
  },
  {
   "cell_type": "code",
   "execution_count": 29,
   "id": "eccf26fa",
   "metadata": {},
   "outputs": [
    {
     "data": {
      "text/plain": [
       "array([3.71008416, 5.56571783, 7.67828641, 1.6154128 , 4.40985503])"
      ]
     },
     "execution_count": 29,
     "metadata": {},
     "output_type": "execute_result"
    }
   ],
   "source": [
    "pred_model2 = model_2.predict(x_data)\n",
    "pred_model2[:5]"
   ]
  },
  {
   "cell_type": "markdown",
   "id": "3f5993b7",
   "metadata": {},
   "source": [
    "Then we will use the `mean_square_error()` from `sklearn.metrics` which actually count for **Mean Squared Error (MSE)** "
   ]
  },
  {
   "cell_type": "code",
   "execution_count": 30,
   "id": "c6d9ae0b",
   "metadata": {},
   "outputs": [
    {
     "data": {
      "text/plain": [
       "3.0841144774902616"
      ]
     },
     "execution_count": 30,
     "metadata": {},
     "output_type": "execute_result"
    }
   ],
   "source": [
    "from sklearn.metrics import mean_squared_error\n",
    "\n",
    "mse = mean_squared_error(y_data, pred_model2)\n",
    "mse"
   ]
  },
  {
   "cell_type": "markdown",
   "id": "da652a5b",
   "metadata": {},
   "source": [
    "To get the RMSE, we just need to add root to the MSE result"
   ]
  },
  {
   "cell_type": "code",
   "execution_count": 31,
   "id": "3d53f424",
   "metadata": {},
   "outputs": [
    {
     "data": {
      "text/plain": [
       "1.7561647068228714"
      ]
     },
     "execution_count": 31,
     "metadata": {},
     "output_type": "execute_result"
    }
   ],
   "source": [
    "math.sqrt(mse)"
   ]
  }
 ],
 "metadata": {
  "kernelspec": {
   "display_name": "Python 3 (ipykernel)",
   "language": "python",
   "name": "python3"
  },
  "language_info": {
   "codemirror_mode": {
    "name": "ipython",
    "version": 3
   },
   "file_extension": ".py",
   "mimetype": "text/x-python",
   "name": "python",
   "nbconvert_exporter": "python",
   "pygments_lexer": "ipython3",
   "version": "3.8.11"
  }
 },
 "nbformat": 4,
 "nbformat_minor": 5
}
